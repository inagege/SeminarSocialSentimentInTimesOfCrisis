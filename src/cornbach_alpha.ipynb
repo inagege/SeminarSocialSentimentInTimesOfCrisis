{
 "cells": [
  {
   "cell_type": "code",
   "id": "initial_id",
   "metadata": {
    "collapsed": true,
    "ExecuteTime": {
     "end_time": "2024-11-28T09:10:58.600026Z",
     "start_time": "2024-11-28T09:10:58.182414Z"
    }
   },
   "source": [
    "import pingouin as pg\n",
    "from tools.preprocessing_data import encode_data_to_numeric, get_data_since_date, load_data, min_max_scale_data, fill_nan_individually\n",
    "from tools.add_external_data import add_external_data"
   ],
   "outputs": [],
   "execution_count": 2
  },
  {
   "metadata": {
    "ExecuteTime": {
     "end_time": "2024-11-28T09:11:01.917382Z",
     "start_time": "2024-11-28T09:10:59.970594Z"
    }
   },
   "cell_type": "code",
   "source": [
    "data = load_data()\n",
    "data = add_external_data(data)\n",
    "data = get_data_since_date(data, '2023-04-05')\n",
    "data = encode_data_to_numeric(data)\n",
    "\n",
    "indizes = ['inflation_rate', 'interest_rate', 'MSCI_world', 'dax_points']\n",
    "stocks = ['F3A21_1', 'F5A10_2']\n",
    "informative = ['F5aA1_1', 'F5aA2_1', 'F5aA3_1', 'F5bA1_1','F5bA2_1' ,'F5bA3_1' ,'F5bA4_1' ,'F5bA5_1', 'F5A10_1', 'F5A11_1', 'F5A12_1', 'F5A13_1', 'F5A14_1']\n",
    "academic = ['F7g', 'F7h', 'F7i']\n",
    "corona = ['F3A16_1', 'F3A17_1']\n",
    "ukraine = ['F2A6', 'F2A14']\n",
    "energy_crisis = ['F1A13_1', 'F1A14_1']  \n",
    "\n",
    "data = data[energy_crisis]\n",
    "data = min_max_scale_data(data)\n",
    "data = fill_nan_individually(data)\n",
    "\n",
    "data['F1A14_1'] = -data['F1A14_1']\n",
    "\n",
    "print(pg.cronbach_alpha(data))"
   ],
   "id": "292e476e1954597f",
   "outputs": [
    {
     "name": "stderr",
     "output_type": "stream",
     "text": [
      "/Users/inagege/Documents/00_Uni/SeminarSocialSentimentInTimesOfCrisis/tools/preprocessing_data.py:19: DtypeWarning: Columns (55,56,57,58,59,60,61,62,63,64,65,66,67,68,69,70,73,74,75,148,161,166) have mixed types. Specify dtype option on import or set low_memory=False.\n",
      "  return pd.read_csv(\"../Data/data_sample_700_SOSEC_dataset_germany.csv\")\n",
      "[*********************100%***********************]  1 of 1 completed\n"
     ]
    },
    {
     "name": "stdout",
     "output_type": "stream",
     "text": [
      "(np.float64(0.6740460815558118), array([0.666, 0.682]))\n"
     ]
    }
   ],
   "execution_count": 3
  },
  {
   "metadata": {},
   "cell_type": "code",
   "outputs": [],
   "execution_count": null,
   "source": "",
   "id": "58c094a1081f8897"
  },
  {
   "metadata": {},
   "cell_type": "code",
   "outputs": [],
   "execution_count": null,
   "source": "",
   "id": "2afafddf2fe24d95"
  }
 ],
 "metadata": {
  "kernelspec": {
   "display_name": "venv",
   "language": "python",
   "name": "venv"
  },
  "language_info": {
   "codemirror_mode": {
    "name": "ipython",
    "version": 2
   },
   "file_extension": ".py",
   "mimetype": "text/x-python",
   "name": "python",
   "nbconvert_exporter": "python",
   "pygments_lexer": "ipython2",
   "version": "2.7.6"
  }
 },
 "nbformat": 4,
 "nbformat_minor": 5
}
