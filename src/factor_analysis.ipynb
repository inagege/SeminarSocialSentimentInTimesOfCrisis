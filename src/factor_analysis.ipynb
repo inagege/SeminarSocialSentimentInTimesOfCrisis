{
 "cells": [
  {
   "cell_type": "code",
   "id": "initial_id",
   "metadata": {
    "collapsed": true,
    "ExecuteTime": {
     "end_time": "2024-12-28T04:20:34.367910Z",
     "start_time": "2024-12-28T04:20:34.360172Z"
    }
   },
   "source": [
    "import pandas as pd\n",
    "import numpy as np\n",
    "from tools.preprocessing_data import encode_data_to_numeric, get_data_since_date, load_data\n",
    "from tools.add_external_data import add_external_data\n",
    "from sklearn.decomposition import PCA\n",
    "from factor_analyzer.rotator import Rotator\n",
    "from sklearn.preprocessing import MinMaxScaler"
   ],
   "outputs": [],
   "execution_count": 20
  },
  {
   "cell_type": "code",
   "source": [
    "data = load_data()\n",
    "data = add_external_data(data)\n",
    "data = get_data_since_date(data, '2023-01-01')\n",
    "data = encode_data_to_numeric(data)\n",
    "\n",
    "#relevant_columns = ['consumer_price_index', 'inflation_rate', 'dax_points', 'interest_rate', 'F3A21_1', 'F71invest', 'F5A10_2', 'F5aA1_1', 'F5aA2_1', 'F5aA3_1', 'F5aA4_1', 'F5aA5_1', 'F5bA1_1','F5bA2_1' ,'F5bA3_1' ,'F5bA4_1' ,'F5bA5_1']\n",
    "#relevant_columns = ['inflation_rate', 'interest_rate', 'dax_points', 'MSCI_world', 'F3A21_1', 'F5A10_2', 'F5aA1_1', 'F5aA2_1', 'F5aA3_1', 'F5bA1_1', 'F5bA2_1', 'F5bA3_1', 'F5bA4_1', 'F5bA5_1', 'F5A10_1', 'F5A11_1', 'F5A12_1', 'F5A13_1', 'F5A14_1', 'F3A16_1', 'F3A17_1', 'F2A6', 'F2A14', 'F1A13_1', 'F1A14_1']\n",
    "relevant_columns = ['inflation_rate', 'interest_rate', 'dax_points', 'MSCI_world','F3A21_1', 'F5A10_2', 'F5aA1_1', 'F5aA2_1', 'F5aA3_1', 'F5bA1_1','F5bA2_1' ,'F5bA3_1' ,'F5bA4_1' ,'F5bA5_1', 'F5A10_1', 'F5A11_1', 'F5A12_1', 'F5A13_1', 'F5A14_1',  'F3A16_1', 'F3A17_1', 'F3A15_1',  'F2A6', 'F2A14', 'F2A7', 'F3A22_1', 'F3A14_1', 'F1A13_1', 'F1A14_1', 'F3A20_1']\n",
    "\n",
    "data = data[relevant_columns]\n",
    "\n",
    "scaler = MinMaxScaler()\n",
    "data = pd.DataFrame(scaler.fit_transform(data), columns=data.columns)\n",
    "\n",
    "correlation_matrix = data.corr()\n",
    "correlation_matrix.fillna(0, inplace=True)\n",
    "\n",
    "# Calculate eigenvalues of the correlation matrix\n",
    "eigenvalues, _ = np.linalg.eig(correlation_matrix)\n",
    "\n",
    "#sort eigenvalues\n",
    "eigenvalues = np.sort(eigenvalues)[::-1]\n",
    "\n",
    "#plot eigenvalues\n",
    "import matplotlib.pyplot as plt\n",
    "plt.plot(eigenvalues)\n",
    "plt.title('Scree plot')\n",
    "plt.xlabel('Number of factors')\n",
    "plt.ylabel('Eigenvalues')\n",
    "plt.grid()\n",
    "\n",
    "#plt.axhline(y=2.5, color='g', linestyle='-')\n",
    "\n",
    "#insert a vertical line at x=15\n",
    "plt.axvline(x=5, color='r', linestyle='-')\n",
    "\n",
    "plt.show()\n",
    "\n",
    "# Apply Kaiser criterion: keep factors with eigenvalues > 1\n",
    "kaiser_factors = eigenvalues[eigenvalues > 1]\n",
    "print(\"Eigenvalues:\", eigenvalues)\n",
    "print(\"Eigenvalues > 1 (Kaiser criterion):\", kaiser_factors)\n",
    "print(\"Number of factors according to Kaiser criterion:\", len(kaiser_factors))\n",
    "\n",
    "#fill nans in each column which includes only 1s and 0s with mod and other columns with mean\n",
    "for column in data.columns:\n",
    "    if set(data[column].dropna(inplace=False).unique()) <= {0, 1}:\n",
    "        data[column] = data[column].fillna(data[column].mode()[0])\n",
    "    else:\n",
    "        data[column] = data[column].fillna(data[column].mean())"
   ],
   "metadata": {
    "collapsed": false,
    "ExecuteTime": {
     "end_time": "2024-12-28T04:20:35.564469Z",
     "start_time": "2024-12-28T04:20:34.415649Z"
    }
   },
   "id": "3bc43e86b533bd35",
   "outputs": [
    {
     "name": "stderr",
     "output_type": "stream",
     "text": [
      "/Users/inagege/Documents/00_Uni/SeminarSocialSentimentInTimesOfCrisis/tools/preprocessing_data.py:19: DtypeWarning: Columns (55,56,57,58,59,60,61,62,63,64,65,66,67,68,69,70,73,74,75,148,161,166) have mixed types. Specify dtype option on import or set low_memory=False.\n",
      "  return pd.read_csv(\"../Data/data_sample_700_SOSEC_dataset_germany.csv\")\n",
      "[*********************100%***********************]  1 of 1 completed\n"
     ]
    },
    {
     "data": {
      "text/plain": [
       "<Figure size 640x480 with 1 Axes>"
      ],
      "image/png": "[encoded data removed]"
     },
     "metadata": {},
     "output_type": "display_data"
    },
    {
     "name": "stdout",
     "output_type": "stream",
     "text": [
      "Eigenvalues: [4.84178287 3.71051933 2.79868931 2.39497883 1.55274111 1.3904413\n",
      " 1.32738161 1.21739735 1.13415533 0.9927763  0.80827971 0.74007138\n",
      " 0.73866362 0.68221462 0.64965396 0.54417689 0.4910382  0.48329661\n",
      " 0.46664282 0.40127356 0.3924018  0.36389616 0.35009561 0.34174239\n",
      " 0.31212971 0.2957853  0.28524224 0.2022397  0.0641674  0.026125  ]\n",
      "Eigenvalues > 1 (Kaiser criterion): [4.84178287 3.71051933 2.79868931 2.39497883 1.55274111 1.3904413\n",
      " 1.32738161 1.21739735 1.13415533]\n",
      "Number of factors according to Kaiser criterion: 9\n"
     ]
    }
   ],
   "execution_count": 21
  },
  {
   "cell_type": "code",
   "source": [
    "#fill data nans before applying PCA\n",
    "pca = PCA(n_components=10)\n",
    "#pca = PCA(n_components=20)\n",
    "pca.fit(data)\n",
    "\n",
    "# Get the component matrix\n",
    "component_matrix = pca.components_.T\n",
    "\n",
    "# Add a small epsilon value to avoid numerical instability\n",
    "epsilon = 1e-100\n",
    "component_matrix += epsilon\n",
    "\n",
    "rotator = Rotator()\n",
    "rotated_matrix = rotator.fit_transform(component_matrix)\n",
    "\n",
    "# Create a DataFrame for the rotated component matrix\n",
    "rotated_matrix_df = pd.DataFrame(rotated_matrix, \n",
    "                                 index=data.columns, \n",
    "                                 columns=[f'Component {i+1}' for i in range(10)])\n",
    "\n",
    "print(rotated_matrix_df)"
   ],
   "metadata": {
    "collapsed": false,
    "ExecuteTime": {
     "end_time": "2024-12-28T04:20:35.587493Z",
     "start_time": "2024-12-28T04:20:35.571254Z"
    }
   },
   "id": "607cb49cd1fa07db",
   "outputs": [
    {
     "name": "stdout",
     "output_type": "stream",
     "text": [
      "                Component 1  Component 2  Component 3  Component 4  \\\n",
      "inflation_rate     0.003532     0.010283     0.602105     0.017159   \n",
      "interest_rate      0.010859     0.000036    -0.478460    -0.042003   \n",
      "dax_points         0.000955    -0.000067    -0.358187     0.034478   \n",
      "MSCI_world         0.000338     0.000674    -0.522162     0.028309   \n",
      "F3A21_1            0.101853     0.028124    -0.012984    -0.001090   \n",
      "F5A10_2            0.090527     0.047342    -0.012648     0.015293   \n",
      "F5aA1_1           -0.454846    -0.072662     0.008910    -0.038642   \n",
      "F5aA2_1           -0.633788     0.068393    -0.012198     0.111353   \n",
      "F5aA3_1            0.056713     0.413707     0.013714     0.053194   \n",
      "F5bA1_1           -0.008580     0.064145    -0.003628    -0.000643   \n",
      "F5bA2_1            0.052891     0.600581    -0.002930     0.046740   \n",
      "F5bA3_1           -0.123668     0.623325    -0.015354    -0.124365   \n",
      "F5bA4_1           -0.564640    -0.020845     0.009179    -0.040646   \n",
      "F5bA5_1           -0.086889    -0.007369    -0.004702     0.028105   \n",
      "F5A10_1           -0.006546    -0.032707     0.001857    -0.014778   \n",
      "F5A11_1           -0.030002    -0.051475    -0.000301    -0.048651   \n",
      "F5A12_1           -0.095878     0.044371     0.005454     0.021916   \n",
      "F5A13_1           -0.000847    -0.014901     0.004635    -0.023497   \n",
      "F5A14_1            0.058920     0.212418     0.029983     0.011504   \n",
      "F3A16_1           -0.016437     0.047132    -0.056895    -0.023575   \n",
      "F3A17_1           -0.007116     0.055818    -0.000395    -0.017527   \n",
      "F3A15_1           -0.045019     0.036971    -0.039966    -0.068686   \n",
      "F2A6               0.006474     0.015858     0.002152     0.525720   \n",
      "F2A14              0.014397     0.014233    -0.022005     0.501135   \n",
      "F2A7               0.002583     0.002271     0.003621     0.641411   \n",
      "F3A22_1            0.035990     0.028132    -0.003342    -0.041764   \n",
      "F3A14_1           -0.084454    -0.052914    -0.011894     0.036044   \n",
      "F1A13_1            0.018377     0.006878     0.002046    -0.046021   \n",
      "F1A14_1           -0.001119     0.008971     0.005423    -0.019855   \n",
      "F3A20_1           -0.000473    -0.000835    -0.003000    -0.071328   \n",
      "\n",
      "                Component 5  Component 6  Component 7  Component 8  \\\n",
      "inflation_rate     0.019329    -0.004579     0.003609     0.011722   \n",
      "interest_rate     -0.023526    -0.014425    -0.020944    -0.045093   \n",
      "dax_points         0.026237     0.004167     0.013654     0.028104   \n",
      "MSCI_world         0.018337     0.006927     0.009301     0.023728   \n",
      "F3A21_1           -0.184228     0.032837     0.068705    -0.246651   \n",
      "F5A10_2           -0.198328    -0.011196     0.061580    -0.346850   \n",
      "F5aA1_1            0.108122     0.110668     0.113946     0.025367   \n",
      "F5aA2_1           -0.204956    -0.022449    -0.255857    -0.125332   \n",
      "F5aA3_1           -0.090539     0.036824    -0.045116    -0.113163   \n",
      "F5bA1_1           -0.068720     0.922295     0.005241    -0.006307   \n",
      "F5bA2_1            0.095742     0.062871    -0.021403     0.002717   \n",
      "F5bA3_1            0.060116    -0.075671     0.127853     0.172636   \n",
      "F5bA4_1            0.019541    -0.059698     0.068811     0.059811   \n",
      "F5bA5_1           -0.044732     0.000247     0.914944    -0.073964   \n",
      "F5A10_1            0.116473     0.012755     0.028870    -0.425662   \n",
      "F5A11_1            0.208401    -0.007940     0.049146    -0.398565   \n",
      "F5A12_1           -0.042291    -0.113781    -0.108045    -0.394369   \n",
      "F5A13_1            0.067849     0.093964    -0.001446    -0.415312   \n",
      "F5A14_1           -0.082390    -0.125200    -0.066203    -0.250302   \n",
      "F3A16_1            0.354108    -0.092619    -0.016197    -0.026037   \n",
      "F3A17_1            0.591772    -0.089689     0.001171    -0.015795   \n",
      "F3A15_1           -0.349650    -0.094499    -0.037766     0.032741   \n",
      "F2A6               0.111710     0.022908    -0.063257    -0.039686   \n",
      "F2A14             -0.042348     0.037735    -0.020866     0.042067   \n",
      "F2A7               0.010943    -0.077677     0.121927     0.041581   \n",
      "F3A22_1           -0.215541    -0.110269     0.072666    -0.012395   \n",
      "F3A14_1            0.260061     0.171982    -0.076310    -0.072445   \n",
      "F1A13_1            0.106865     0.075535    -0.012504     0.028873   \n",
      "F1A14_1           -0.069284    -0.010216    -0.002092    -0.055482   \n",
      "F3A20_1            0.173990     0.042014    -0.005197    -0.013702   \n",
      "\n",
      "                Component 9  \n",
      "inflation_rate    -0.004313  \n",
      "interest_rate      0.019109  \n",
      "dax_points        -0.008818  \n",
      "MSCI_world        -0.007575  \n",
      "F3A21_1           -0.079192  \n",
      "F5A10_2           -0.067349  \n",
      "F5aA1_1           -0.137226  \n",
      "F5aA2_1            0.232654  \n",
      "F5aA3_1            0.149804  \n",
      "F5bA1_1            0.103084  \n",
      "F5bA2_1           -0.005091  \n",
      "F5bA3_1           -0.239202  \n",
      "F5bA4_1           -0.057563  \n",
      "F5bA5_1            0.080916  \n",
      "F5A10_1           -0.044920  \n",
      "F5A11_1           -0.120677  \n",
      "F5A12_1            0.119198  \n",
      "F5A13_1           -0.003572  \n",
      "F5A14_1            0.087189  \n",
      "F3A16_1            0.080184  \n",
      "F3A17_1            0.175713  \n",
      "F3A15_1           -0.011564  \n",
      "F2A6              -0.225523  \n",
      "F2A14             -0.100550  \n",
      "F2A7               0.232083  \n",
      "F3A22_1            0.239917  \n",
      "F3A14_1           -0.303433  \n",
      "F1A13_1            0.478636  \n",
      "F1A14_1           -0.392235  \n",
      "F3A20_1            0.303802  \n"
     ]
    }
   ],
   "execution_count": 22
  },
  {
   "cell_type": "code",
   "source": [
    "# Assign each feature to the component with the highest value\n",
    "assigned_components = rotated_matrix_df.idxmax(axis=1)\n",
    "\n",
    "# Create a new DataFrame to show the assignment\n",
    "assigned_components_df = pd.DataFrame({'Assigned Component': assigned_components})\n",
    "assigned_components_df = assigned_components_df.reset_index()\n",
    "assigned_components_df.columns = ['Feature', 'Assigned Component']\n",
    "print(assigned_components_df)"
   ],
   "metadata": {
    "collapsed": false,
    "ExecuteTime": {
     "end_time": "2024-12-28T04:20:35.614056Z",
     "start_time": "2024-12-28T04:20:35.608939Z"
    }
   },
   "id": "401c041e6b0aac71",
   "outputs": [
    {
     "name": "stdout",
     "output_type": "stream",
     "text": [
      "           Feature Assigned Component\n",
      "0   inflation_rate        Component 3\n",
      "1    interest_rate        Component 9\n",
      "2       dax_points        Component 4\n",
      "3       MSCI_world        Component 4\n",
      "4          F3A21_1        Component 1\n",
      "5          F5A10_2        Component 1\n",
      "6          F5aA1_1        Component 7\n",
      "7          F5aA2_1        Component 9\n",
      "8          F5aA3_1        Component 2\n",
      "9          F5bA1_1        Component 6\n",
      "10         F5bA2_1        Component 2\n",
      "11         F5bA3_1        Component 2\n",
      "12         F5bA4_1        Component 7\n",
      "13         F5bA5_1        Component 7\n",
      "14         F5A10_1        Component 5\n",
      "15         F5A11_1        Component 5\n",
      "16         F5A12_1        Component 9\n",
      "17         F5A13_1        Component 6\n",
      "18         F5A14_1        Component 2\n",
      "19         F3A16_1        Component 5\n",
      "20         F3A17_1        Component 5\n",
      "21         F3A15_1        Component 2\n",
      "22            F2A6        Component 4\n",
      "23           F2A14        Component 4\n",
      "24            F2A7        Component 4\n",
      "25         F3A22_1        Component 9\n",
      "26         F3A14_1        Component 5\n",
      "27         F1A13_1        Component 9\n",
      "28         F1A14_1        Component 2\n",
      "29         F3A20_1        Component 9\n"
     ]
    }
   ],
   "execution_count": 23
  },
  {
   "cell_type": "code",
   "source": [
    "# Create a new DataFrame with components as columns and features as rows\n",
    "components = assigned_components_df['Assigned Component'].unique()\n",
    "features = assigned_components_df.index\n",
    "boolean_df = pd.DataFrame(False, index=features, columns=components)\n",
    "\n",
    "# Populate the DataFrame with True where the feature is assigned to the component\n",
    "for feature, component in assigned_components_df['Assigned Component'].items():\n",
    "    boolean_df.loc[feature, component] = True\n",
    "\n",
    "print(boolean_df)"
   ],
   "metadata": {
    "collapsed": false,
    "ExecuteTime": {
     "end_time": "2024-12-28T04:20:35.639076Z",
     "start_time": "2024-12-28T04:20:35.633350Z"
    }
   },
   "id": "ba7e8c25d5a81eae",
   "outputs": [
    {
     "name": "stdout",
     "output_type": "stream",
     "text": [
      "    Component 3  Component 9  Component 4  Component 1  Component 7  \\\n",
      "0          True        False        False        False        False   \n",
      "1         False         True        False        False        False   \n",
      "2         False        False         True        False        False   \n",
      "3         False        False         True        False        False   \n",
      "4         False        False        False         True        False   \n",
      "5         False        False        False         True        False   \n",
      "6         False        False        False        False         True   \n",
      "7         False         True        False        False        False   \n",
      "8         False        False        False        False        False   \n",
      "9         False        False        False        False        False   \n",
      "10        False        False        False        False        False   \n",
      "11        False        False        False        False        False   \n",
      "12        False        False        False        False         True   \n",
      "13        False        False        False        False         True   \n",
      "14        False        False        False        False        False   \n",
      "15        False        False        False        False        False   \n",
      "16        False         True        False        False        False   \n",
      "17        False        False        False        False        False   \n",
      "18        False        False        False        False        False   \n",
      "19        False        False        False        False        False   \n",
      "20        False        False        False        False        False   \n",
      "21        False        False        False        False        False   \n",
      "22        False        False         True        False        False   \n",
      "23        False        False         True        False        False   \n",
      "24        False        False         True        False        False   \n",
      "25        False         True        False        False        False   \n",
      "26        False        False        False        False        False   \n",
      "27        False         True        False        False        False   \n",
      "28        False        False        False        False        False   \n",
      "29        False         True        False        False        False   \n",
      "\n",
      "    Component 2  Component 6  Component 5  \n",
      "0         False        False        False  \n",
      "1         False        False        False  \n",
      "2         False        False        False  \n",
      "3         False        False        False  \n",
      "4         False        False        False  \n",
      "5         False        False        False  \n",
      "6         False        False        False  \n",
      "7         False        False        False  \n",
      "8          True        False        False  \n",
      "9         False         True        False  \n",
      "10         True        False        False  \n",
      "11         True        False        False  \n",
      "12        False        False        False  \n",
      "13        False        False        False  \n",
      "14        False        False         True  \n",
      "15        False        False         True  \n",
      "16        False        False        False  \n",
      "17        False         True        False  \n",
      "18         True        False        False  \n",
      "19        False        False         True  \n",
      "20        False        False         True  \n",
      "21         True        False        False  \n",
      "22        False        False        False  \n",
      "23        False        False        False  \n",
      "24        False        False        False  \n",
      "25        False        False        False  \n",
      "26        False        False         True  \n",
      "27        False        False        False  \n",
      "28         True        False        False  \n",
      "29        False        False        False  \n"
     ]
    }
   ],
   "execution_count": 24
  },
  {
   "metadata": {
    "ExecuteTime": {
     "end_time": "2024-12-28T04:20:35.684045Z",
     "start_time": "2024-12-28T04:20:35.675598Z"
    }
   },
   "cell_type": "code",
   "source": [
    "# Load the CSV file into a DataFrame\n",
    "feature_meanings_df = pd.read_csv('../Data/SOSEC_Codebook_Germany_2024_May.csv', delimiter=';')\n",
    "\n",
    "# Drop duplicate rows based on the 'Feature' column, keeping only the last occurrence\n",
    "feature_meanings_df = feature_meanings_df.drop_duplicates(subset='Feature', keep='last')\n",
    "\n",
    "# Merge the DataFrame\n",
    "merged_df = assigned_components_df.merge(feature_meanings_df, on='Feature', how='left')\n",
    "merged_df.drop(columns=['Unnamed: 2'], inplace=True)\n",
    "\n",
    "# Save the merged DataFrame to a CSV file\n",
    "merged_df.to_csv('../results/ECA/seminar_paper/relevant_features_kaiser.csv', index=False)\n",
    "print(merged_df.head(10))"
   ],
   "id": "a219fb8f48935a78",
   "outputs": [
    {
     "name": "stdout",
     "output_type": "stream",
     "text": [
      "          Feature Assigned Component  \\\n",
      "0  inflation_rate        Component 3   \n",
      "1   interest_rate        Component 9   \n",
      "2      dax_points        Component 4   \n",
      "3      MSCI_world        Component 4   \n",
      "4         F3A21_1        Component 1   \n",
      "5         F5A10_2        Component 1   \n",
      "6         F5aA1_1        Component 7   \n",
      "7         F5aA2_1        Component 9   \n",
      "8         F5aA3_1        Component 2   \n",
      "9         F5bA1_1        Component 6   \n",
      "\n",
      "                                            question  \n",
      "0                                                NaN  \n",
      "1                                                NaN  \n",
      "2                                                NaN  \n",
      "3                                                NaN  \n",
      "4   Aktuell ergibt es Sinn in Aktien zu investieren.  \n",
      "5                                   Die Aktienmärkte  \n",
      "6  ...von öffentlichen Medienanstalten  (ARD, ZDF...  \n",
      "7  ...von privaten etablierten Medienanstalten  (...  \n",
      "8  ...von alternativen Anbietern (newsblogger, so...  \n",
      "9                             Webseiten und Newsapps  \n"
     ]
    }
   ],
   "execution_count": 25
  }
 ],
 "metadata": {
  "kernelspec": {
   "display_name": "Python 3",
   "language": "python",
   "name": "python3"
  },
  "language_info": {
   "codemirror_mode": {
    "name": "ipython",
    "version": 2
   },
   "file_extension": ".py",
   "mimetype": "text/x-python",
   "name": "python",
   "nbconvert_exporter": "python",
   "pygments_lexer": "ipython2",
   "version": "2.7.6"
  }
 },
 "nbformat": 4,
 "nbformat_minor": 5
}
