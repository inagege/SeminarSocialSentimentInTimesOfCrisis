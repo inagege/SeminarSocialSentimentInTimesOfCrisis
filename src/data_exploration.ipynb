{
 "cells": [
  {
   "cell_type": "markdown",
   "source": [
    "\n"
   ],
   "metadata": {
    "collapsed": false
   },
   "id": "d9a63cb7292102a"
  },
  {
   "cell_type": "code",
   "execution_count": 1,
   "outputs": [],
   "source": [
    "import pandas as pd\n",
    "from tools.preprocessing_data import encode_data_to_numeric, load_data"
   ],
   "metadata": {
    "collapsed": false,
    "ExecuteTime": {
     "end_time": "2024-10-16T07:20:50.439785Z",
     "start_time": "2024-10-16T07:20:50.359881Z"
    }
   },
   "id": "bcbbcb44718579f0"
  },
  {
   "cell_type": "markdown",
   "source": [],
   "metadata": {
    "collapsed": false,
    "ExecuteTime": {
     "end_time": "2024-09-17T13:07:20.399361Z",
     "start_time": "2024-09-17T13:07:20.378353Z"
    }
   },
   "id": "72f213f80dec6d40"
  },
  {
   "cell_type": "code",
   "execution_count": 2,
   "outputs": [
    {
     "name": "stderr",
     "output_type": "stream",
     "text": [
      "/Users/inagege/Documents/00_Uni/SeminarSocialSentimentInTimesOfCrisis/tools/preprocessing_data.py:10: DtypeWarning: Columns (55,56,57,58,59,60,61,62,63,64,65,66,67,68,69,70,73,74,75,148,161,166) have mixed types. Specify dtype option on import or set low_memory=False.\n",
      "  return pd.read_csv(\"../Data/data_sample_700_SOSEC_dataset_germany.csv\")\n"
     ]
    },
    {
     "data": {
      "text/plain": "         Unnamed: 0       i_NUMBER         i_TIME    wave_first        F1A1_1  \\\ncount  39724.000000   39724.000000   39724.000000  39724.000000  39724.000000   \nmean   40779.036628  146740.275853    1506.115270     16.598152      3.315955   \nstd    23126.723086  115754.567018   11482.913355     19.169106      1.525599   \nmin        0.000000      16.000000      60.000000      1.000000      1.000000   \n25%    20554.000000   31981.000000     483.000000      1.000000      2.000000   \n50%    41178.500000  132136.000000     660.000000      5.000000      3.000000   \n75%    62716.500000  256451.250000     959.000000     35.000000      4.000000   \nmax    78030.000000  354302.000000  583034.000000     57.000000      7.000000   \n\n             F1A2_1        F1A3_1        F1A4_1        F1A5_1        F1A6_1  \\\ncount  39724.000000  39724.000000  39724.000000  39724.000000  39724.000000   \nmean       4.495569      5.013971      4.784387      3.084508      4.596214   \nstd        1.652046      1.702588      1.730199      1.450744      1.727323   \nmin        1.000000      1.000000      1.000000      1.000000      1.000000   \n25%        3.000000      4.000000      4.000000      2.000000      3.000000   \n50%        5.000000      5.000000      5.000000      3.000000      5.000000   \n75%        6.000000      7.000000      6.000000      4.000000      6.000000   \nmax        7.000000      7.000000      7.000000      7.000000      7.000000   \n\n       ...      F5fA3_1    F71invest     F71moral  F71finanziell         NEU3  \\\ncount  ...  5199.000000  1991.000000  1991.000000    1991.000000  3342.000000   \nmean   ...     3.192537     2.551482     4.837268       4.990457     4.164871   \nstd    ...     1.437707     0.799017     2.202246       2.142278     1.429596   \nmin    ...     1.000000     1.000000     1.000000       1.000000     1.000000   \n25%    ...     2.000000     2.000000     3.000000       3.500000     3.000000   \n50%    ...     3.000000     3.000000     4.000000       4.000000     5.000000   \n75%    ...     4.000000     3.000000     7.000000       7.000000     5.000000   \nmax    ...     7.000000     4.000000     8.000000       8.000000     6.000000   \n\n              NEU4    F3B_Huthi  population_total  population_density_level  \\\ncount  3342.000000  5441.000000      39549.000000              39549.000000   \nmean      2.852484     7.801139      18565.014362               2109.355801   \nstd       1.403407     2.459556      10060.796204               3165.578327   \nmin       1.000000     1.000000          0.000000                  0.000000   \n25%       1.000000     6.000000      11615.000000                226.225853   \n50%       3.000000     8.000000      17867.000000                771.919083   \n75%       4.000000    10.000000      24226.000000               2567.963046   \nmax       5.000000    11.000000      58782.000000              26152.091224   \n\n       all_persons  \ncount      39724.0  \nmean           1.0  \nstd            0.0  \nmin            1.0  \n25%            1.0  \n50%            1.0  \n75%            1.0  \nmax            1.0  \n\n[8 rows x 211 columns]",
      "text/html": "<div>\n<style scoped>\n    .dataframe tbody tr th:only-of-type {\n        vertical-align: middle;\n    }\n\n    .dataframe tbody tr th {\n        vertical-align: top;\n    }\n\n    .dataframe thead th {\n        text-align: right;\n    }\n</style>\n<table border=\"1\" class=\"dataframe\">\n  <thead>\n    <tr style=\"text-align: right;\">\n      <th></th>\n      <th>Unnamed: 0</th>\n      <th>i_NUMBER</th>\n      <th>i_TIME</th>\n      <th>wave_first</th>\n      <th>F1A1_1</th>\n      <th>F1A2_1</th>\n      <th>F1A3_1</th>\n      <th>F1A4_1</th>\n      <th>F1A5_1</th>\n      <th>F1A6_1</th>\n      <th>...</th>\n      <th>F5fA3_1</th>\n      <th>F71invest</th>\n      <th>F71moral</th>\n      <th>F71finanziell</th>\n      <th>NEU3</th>\n      <th>NEU4</th>\n      <th>F3B_Huthi</th>\n      <th>population_total</th>\n      <th>population_density_level</th>\n      <th>all_persons</th>\n    </tr>\n  </thead>\n  <tbody>\n    <tr>\n      <th>count</th>\n      <td>39724.000000</td>\n      <td>39724.000000</td>\n      <td>39724.000000</td>\n      <td>39724.000000</td>\n      <td>39724.000000</td>\n      <td>39724.000000</td>\n      <td>39724.000000</td>\n      <td>39724.000000</td>\n      <td>39724.000000</td>\n      <td>39724.000000</td>\n      <td>...</td>\n      <td>5199.000000</td>\n      <td>1991.000000</td>\n      <td>1991.000000</td>\n      <td>1991.000000</td>\n      <td>3342.000000</td>\n      <td>3342.000000</td>\n      <td>5441.000000</td>\n      <td>39549.000000</td>\n      <td>39549.000000</td>\n      <td>39724.0</td>\n    </tr>\n    <tr>\n      <th>mean</th>\n      <td>40779.036628</td>\n      <td>146740.275853</td>\n      <td>1506.115270</td>\n      <td>16.598152</td>\n      <td>3.315955</td>\n      <td>4.495569</td>\n      <td>5.013971</td>\n      <td>4.784387</td>\n      <td>3.084508</td>\n      <td>4.596214</td>\n      <td>...</td>\n      <td>3.192537</td>\n      <td>2.551482</td>\n      <td>4.837268</td>\n      <td>4.990457</td>\n      <td>4.164871</td>\n      <td>2.852484</td>\n      <td>7.801139</td>\n      <td>18565.014362</td>\n      <td>2109.355801</td>\n      <td>1.0</td>\n    </tr>\n    <tr>\n      <th>std</th>\n      <td>23126.723086</td>\n      <td>115754.567018</td>\n      <td>11482.913355</td>\n      <td>19.169106</td>\n      <td>1.525599</td>\n      <td>1.652046</td>\n      <td>1.702588</td>\n      <td>1.730199</td>\n      <td>1.450744</td>\n      <td>1.727323</td>\n      <td>...</td>\n      <td>1.437707</td>\n      <td>0.799017</td>\n      <td>2.202246</td>\n      <td>2.142278</td>\n      <td>1.429596</td>\n      <td>1.403407</td>\n      <td>2.459556</td>\n      <td>10060.796204</td>\n      <td>3165.578327</td>\n      <td>0.0</td>\n    </tr>\n    <tr>\n      <th>min</th>\n      <td>0.000000</td>\n      <td>16.000000</td>\n      <td>60.000000</td>\n      <td>1.000000</td>\n      <td>1.000000</td>\n      <td>1.000000</td>\n      <td>1.000000</td>\n      <td>1.000000</td>\n      <td>1.000000</td>\n      <td>1.000000</td>\n      <td>...</td>\n      <td>1.000000</td>\n      <td>1.000000</td>\n      <td>1.000000</td>\n      <td>1.000000</td>\n      <td>1.000000</td>\n      <td>1.000000</td>\n      <td>1.000000</td>\n      <td>0.000000</td>\n      <td>0.000000</td>\n      <td>1.0</td>\n    </tr>\n    <tr>\n      <th>25%</th>\n      <td>20554.000000</td>\n      <td>31981.000000</td>\n      <td>483.000000</td>\n      <td>1.000000</td>\n      <td>2.000000</td>\n      <td>3.000000</td>\n      <td>4.000000</td>\n      <td>4.000000</td>\n      <td>2.000000</td>\n      <td>3.000000</td>\n      <td>...</td>\n      <td>2.000000</td>\n      <td>2.000000</td>\n      <td>3.000000</td>\n      <td>3.500000</td>\n      <td>3.000000</td>\n      <td>1.000000</td>\n      <td>6.000000</td>\n      <td>11615.000000</td>\n      <td>226.225853</td>\n      <td>1.0</td>\n    </tr>\n    <tr>\n      <th>50%</th>\n      <td>41178.500000</td>\n      <td>132136.000000</td>\n      <td>660.000000</td>\n      <td>5.000000</td>\n      <td>3.000000</td>\n      <td>5.000000</td>\n      <td>5.000000</td>\n      <td>5.000000</td>\n      <td>3.000000</td>\n      <td>5.000000</td>\n      <td>...</td>\n      <td>3.000000</td>\n      <td>3.000000</td>\n      <td>4.000000</td>\n      <td>4.000000</td>\n      <td>5.000000</td>\n      <td>3.000000</td>\n      <td>8.000000</td>\n      <td>17867.000000</td>\n      <td>771.919083</td>\n      <td>1.0</td>\n    </tr>\n    <tr>\n      <th>75%</th>\n      <td>62716.500000</td>\n      <td>256451.250000</td>\n      <td>959.000000</td>\n      <td>35.000000</td>\n      <td>4.000000</td>\n      <td>6.000000</td>\n      <td>7.000000</td>\n      <td>6.000000</td>\n      <td>4.000000</td>\n      <td>6.000000</td>\n      <td>...</td>\n      <td>4.000000</td>\n      <td>3.000000</td>\n      <td>7.000000</td>\n      <td>7.000000</td>\n      <td>5.000000</td>\n      <td>4.000000</td>\n      <td>10.000000</td>\n      <td>24226.000000</td>\n      <td>2567.963046</td>\n      <td>1.0</td>\n    </tr>\n    <tr>\n      <th>max</th>\n      <td>78030.000000</td>\n      <td>354302.000000</td>\n      <td>583034.000000</td>\n      <td>57.000000</td>\n      <td>7.000000</td>\n      <td>7.000000</td>\n      <td>7.000000</td>\n      <td>7.000000</td>\n      <td>7.000000</td>\n      <td>7.000000</td>\n      <td>...</td>\n      <td>7.000000</td>\n      <td>4.000000</td>\n      <td>8.000000</td>\n      <td>8.000000</td>\n      <td>6.000000</td>\n      <td>5.000000</td>\n      <td>11.000000</td>\n      <td>58782.000000</td>\n      <td>26152.091224</td>\n      <td>1.0</td>\n    </tr>\n  </tbody>\n</table>\n<p>8 rows × 211 columns</p>\n</div>"
     },
     "execution_count": 2,
     "metadata": {},
     "output_type": "execute_result"
    }
   ],
   "source": [
    "load_data().describe()"
   ],
   "metadata": {
    "collapsed": false,
    "ExecuteTime": {
     "end_time": "2024-10-16T07:20:54.374285Z",
     "start_time": "2024-10-16T07:20:52.792438Z"
    }
   },
   "id": "1befe08124c733ab"
  },
  {
   "cell_type": "code",
   "execution_count": 75,
   "outputs": [],
   "source": [
    "relevant_data = load_data().drop(columns=[\"i_START\", \"i_END\", \"i_TIME\", \"unique_id\", \"wave_first\", \"F6a_bswA1\", \"F6a_bswA2\", \"F6b_bswA1\", \"F6b_bswA2\", \"respondent_id\", \"F3B_Hamas\", \"F3B_Israel\", \"F3B_Deutschland\", \"F3B_USA\", \"F3B_UN\", \"F3B_Iran\", \"F3B_Katar\", \"F3_USA\", \"F3_CHINA\", \"F3_Deutschland\", \"F3_Russland\", \"F3_Ukraine\", \"F3_EU\", \"F3_NATO\", \"F4aA1\", \"F4aA2\", \"F4bA1\", \"F4bA2\", \"F4bA3\", \"F4bA4\", \"F4bA5\", \"F4bA6\", \"F4bA7\", \"F4bA8\", \"F4bA9\", \"F4bA10\", \"F4bA11\", \"F4bA12\", \"F4bA13\", \"F4bA14\", \"F4iA1\", \"F4i_aA1\", \"F4iA2\", \"F4i_bA1\", \"F4i_neuA1\", \"F4i_neuA2\", \"F4i_neuA3\", \"F5bA1_1\", \"F5bA2_1\", \"F5bA3_1\", \"F5bA4_1\", \"F5bA5_1\", \"F5bA6_1\", \"F6a_cduA1\", \"F6a_cduA2\", \"F6a_cduA1\", \"F6a_spdA2\", \"F6a_fdpA1\", \"F6a_fdpA2\", \"F6a_gruenenA1\", \"F6a_gruenenA2\", \"F6a_linkeA1\", \"F6a_linkeA2\", \"F6a_afdA1\", \"F6a_afdA2\", \"F6b_cduA1\", \"F6b_cduA2\", \"F6b_spdA1\", \"F6b_spdA2\", \"F6b_fdpA1\", \"F6b_fdpA2\", \"F6b_gruenenA1\", \"F6b_gruenenA2\", \"F6b_linkeA1\", \"F6b_linkeA2\", \"F6b_afdA1\", \"F6b_afdA2\", \"F6mA1_1\"])"
   ],
   "metadata": {
    "collapsed": false,
    "ExecuteTime": {
     "end_time": "2024-09-19T16:41:34.835235Z",
     "start_time": "2024-09-19T16:41:34.712229Z"
    }
   },
   "id": "6e8ee186bdfe8b95"
  },
  {
   "cell_type": "code",
   "execution_count": 85,
   "outputs": [
    {
     "name": "stdout",
     "output_type": "stream",
     "text": [
      "       Unnamed: 0  i_NUMBER  F1A1_1  F1A2_1  F1A3_1  F1A4_1  F1A5_1  F1A6_1  \\\n",
      "34984       70732     23857       5       4       4       4       4       4   \n",
      "34987       70792     24042       2       4       5       7       1       4   \n",
      "34998       70781     23998       1       6       7       5       2       7   \n",
      "35002       70699     23641       5       4       4       2       6       2   \n",
      "35007       70774     23973       3       5       5       6       2       7   \n",
      "...           ...       ...     ...     ...     ...     ...     ...     ...   \n",
      "39719       77487     44908       5       4       5       3       5       3   \n",
      "39720       76806     44009       1       7       7       7       2       7   \n",
      "39721       76577     43717       6       3       7       4       5       4   \n",
      "39722       76728     43904       3       6       7       1       3       6   \n",
      "39723       77115     44413       4       5       5       4       5       3   \n",
      "\n",
      "       F1A7_1  F1A8_1  ...  Ende_Datum                state  region  \\\n",
      "34984       4       4  ...  2024-05-03  Nordrhein-Westfalen    west   \n",
      "34987       6       5  ...  2024-05-03  Nordrhein-Westfalen    west   \n",
      "34998       7       7  ...  2024-05-03    Baden-Württemberg    west   \n",
      "35002       2       2  ...  2024-05-03               Bremen    west   \n",
      "35007       7       7  ...  2024-05-03  Nordrhein-Westfalen    west   \n",
      "...       ...     ...  ...         ...                  ...     ...   \n",
      "39719       3       4  ...  2024-07-19  Nordrhein-Westfalen    west   \n",
      "39720       7       7  ...  2024-07-19               Bayern    west   \n",
      "39721       3       4  ...  2024-07-19               Hessen    west   \n",
      "39722       6       6  ...  2024-07-19   Schleswig-Holstein    west   \n",
      "39723       3       3  ...  2024-07-19  Nordrhein-Westfalen    west   \n",
      "\n",
      "       migration_background  \\\n",
      "34984                 False   \n",
      "34987                 False   \n",
      "34998                 False   \n",
      "35002                  True   \n",
      "35007                 False   \n",
      "...                     ...   \n",
      "39719                 False   \n",
      "39720                 False   \n",
      "39721                 False   \n",
      "39722                 False   \n",
      "39723                 False   \n",
      "\n",
      "                                               town_name  population_total  \\\n",
      "34984                                   40235 Düsseldorf           17101.0   \n",
      "34987  45659 Recklinghausen-West, Hochlar, Hillerheid...           20245.0   \n",
      "34998                            71672 Marbach am Neckar           15253.0   \n",
      "35002  28217 Bremen Westend, Utbremen, Steffensweg, Ü...           14252.0   \n",
      "35007                                      46236 Bottrop           23552.0   \n",
      "...                                                  ...               ...   \n",
      "39719                                      46242 Bottrop           22530.0   \n",
      "39720                                    89275 Elchingen            9122.0   \n",
      "39721                                    65201 Wiesbaden           15798.0   \n",
      "39722                                    25355 Barmstedt           12731.0   \n",
      "39723                                  53947 Nettersheim            7585.0   \n",
      "\n",
      "       population_density_level  all_persons   date_only  year_month  \n",
      "34984               6521.876757            1  2024-05-02     2024-05  \n",
      "34987                850.253640            1  2024-05-03     2024-05  \n",
      "34998                762.835255            1  2024-05-02     2024-05  \n",
      "35002               2585.009015            1  2024-05-02     2024-05  \n",
      "35007               4823.252533            1  2024-05-02     2024-05  \n",
      "...                         ...          ...         ...         ...  \n",
      "39719               2151.529768            1  2024-07-18     2024-07  \n",
      "39720                367.763457            1  2024-07-18     2024-07  \n",
      "39721                793.396658            1  2024-07-18     2024-07  \n",
      "39722                166.251250            1  2024-07-18     2024-07  \n",
      "39723                 80.191996            1  2024-07-18     2024-07  \n",
      "\n",
      "[4187 rows x 159 columns]\n"
     ]
    },
    {
     "name": "stderr",
     "output_type": "stream",
     "text": [
      "/var/folders/q6/xp9ntqs504g_7q5mrx26_wdc0000gn/T/ipykernel_40212/2008185774.py:3: SettingWithCopyWarning: \n",
      "A value is trying to be set on a copy of a slice from a DataFrame\n",
      "\n",
      "See the caveats in the documentation: https://pandas.pydata.org/pandas-docs/stable/user_guide/indexing.html#returning-a-view-versus-a-copy\n",
      "  current_questions_df.dropna(axis=1, how='all', inplace=True)\n"
     ]
    }
   ],
   "source": [
    "current_questions_df = relevant_data[relevant_data['year_month'] >= pd.Period('2024-05', freq='M')]\n",
    "\n",
    "current_questions_df.dropna(axis=1, how='all', inplace=True)\n",
    "\n",
    "# Print the filtered DataFrame\n",
    "print(current_questions_df)"
   ],
   "metadata": {
    "collapsed": false,
    "ExecuteTime": {
     "end_time": "2024-09-19T16:52:15.816713Z",
     "start_time": "2024-09-19T16:52:15.300752Z"
    }
   },
   "id": "a2e7f711400bf4f3"
  },
  {
   "cell_type": "code",
   "execution_count": 86,
   "outputs": [
    {
     "name": "stdout",
     "output_type": "stream",
     "text": [
      "       Unnamed: 0  i_NUMBER  F1A1_1  F1A2_1  F1A3_1  F1A4_1  F1A5_1  F1A6_1  \\\n",
      "0            1180      2260       4       5       4       4       4       2   \n",
      "1            1352      2538       4       6       7       3       5       5   \n",
      "2             464      1129       2       6       3       6       1       5   \n",
      "3              21       275       2       5       7       7       2       6   \n",
      "4             603      1344       2       5       4       3       3       5   \n",
      "...           ...       ...     ...     ...     ...     ...     ...     ...   \n",
      "35628       70225     21579       2       5       5       6       3       7   \n",
      "35629       70198     21495       7       2       3       1       6       1   \n",
      "35630       70221     21567       4       5       5       4       3       4   \n",
      "35631       70497     22485       3       3       4       4       5       4   \n",
      "35632       70293     21946       4       6       5       2       3       4   \n",
      "\n",
      "       F1A7_1  F1A8_1  ...  Ende_Datum                state  region  \\\n",
      "0           2       3  ...  2022-11-09    Baden-Württemberg    west   \n",
      "1           4       5  ...  2022-11-09               Bayern    west   \n",
      "2           6       6  ...  2022-11-09             Saarland    west   \n",
      "3           7       7  ...  2022-11-09   Schleswig-Holstein    west   \n",
      "4           5       6  ...  2022-11-09    Baden-Württemberg    west   \n",
      "...       ...     ...  ...         ...                  ...     ...   \n",
      "35628       7       6  ...  2024-05-03    Baden-Württemberg    west   \n",
      "35629       1       1  ...  2024-05-03        Niedersachsen    west   \n",
      "35630       4       4  ...  2024-05-03  Nordrhein-Westfalen    west   \n",
      "35631       5       3  ...  2024-05-03    Baden-Württemberg    west   \n",
      "35632       4       2  ...  2024-05-03  Nordrhein-Westfalen    west   \n",
      "\n",
      "       migration_background            town_name  population_total  \\\n",
      "0                     False    69439 Zwingenberg             713.0   \n",
      "1                      True     92339 Beilngries            8746.0   \n",
      "2                     False    66440 Blieskastel           21247.0   \n",
      "3                     False   23617 Stockelsdorf           16493.0   \n",
      "4                     False     72770 Reutlingen           20856.0   \n",
      "...                     ...                  ...               ...   \n",
      "35628                 False    71640 Ludwigsburg           16001.0   \n",
      "35629                  True  21629 Neu Wulmstorf           19888.0   \n",
      "35630                 False    51688 Wipperfürth           21725.0   \n",
      "35631                 False       78467 Konstanz           31068.0   \n",
      "35632                 False           53111 Bonn           19084.0   \n",
      "\n",
      "       population_density_level  all_persons   date_only  year_month  \n",
      "0                    150.474798            1  2022-11-08     2022-11  \n",
      "1                     87.520847            1  2022-11-08     2022-11  \n",
      "2                    196.134512            1  2022-11-08     2022-11  \n",
      "3                    289.859316            1  2022-11-04     2022-11  \n",
      "4                    564.477111            1  2022-11-08     2022-11  \n",
      "...                         ...          ...         ...         ...  \n",
      "35628               3341.276025            1  2024-04-26     2024-04  \n",
      "35629                352.336085            1  2024-04-26     2024-04  \n",
      "35630                185.695198            1  2024-04-26     2024-04  \n",
      "35631               1969.995800            1  2024-04-28     2024-04  \n",
      "35632               7910.705692            1  2024-04-27     2024-04  \n",
      "\n",
      "[35537 rows x 164 columns]\n"
     ]
    },
    {
     "name": "stderr",
     "output_type": "stream",
     "text": [
      "/var/folders/q6/xp9ntqs504g_7q5mrx26_wdc0000gn/T/ipykernel_40212/1645078441.py:3: SettingWithCopyWarning: \n",
      "A value is trying to be set on a copy of a slice from a DataFrame\n",
      "\n",
      "See the caveats in the documentation: https://pandas.pydata.org/pandas-docs/stable/user_guide/indexing.html#returning-a-view-versus-a-copy\n",
      "  old_questions_df.dropna(axis=1, how='all', inplace=True)\n"
     ]
    }
   ],
   "source": [
    "old_questions_df = relevant_data[relevant_data['year_month'] < pd.Period('2024-05', freq='M')]\n",
    "\n",
    "old_questions_df.dropna(axis=1, how='all', inplace=True)\n",
    "\n",
    "# Print the filtered DataFrame\n",
    "print(old_questions_df)"
   ],
   "metadata": {
    "collapsed": false,
    "ExecuteTime": {
     "end_time": "2024-09-19T16:52:41.051163Z",
     "start_time": "2024-09-19T16:52:40.934258Z"
    }
   },
   "id": "1cd07fb2b42eb2e2"
  },
  {
   "cell_type": "code",
   "execution_count": 3,
   "outputs": [
    {
     "name": "stdout",
     "output_type": "stream",
     "text": [
      "['Baden-Württemberg' 'Bayern' 'Saarland' 'Schleswig-Holstein'\n",
      " 'Nordrhein-Westfalen' 'Brandenburg' 'Hessen' 'Thüringen' 'Berlin'\n",
      " 'Niedersachsen' nan 'Rheinland-Pfalz' 'Sachsen' 'Mecklenburg-Vorpommern'\n",
      " 'Hamburg' 'Sachsen-Anhalt' 'Bremen']\n"
     ]
    },
    {
     "name": "stderr",
     "output_type": "stream",
     "text": [
      "/Users/inagege/Documents/00_Uni/SeminarSocialSentimentInTimesOfCrisis/tools/preprocessing_data.py:10: DtypeWarning: Columns (55,56,57,58,59,60,61,62,63,64,65,66,67,68,69,70,73,74,75,148,161,166) have mixed types. Specify dtype option on import or set low_memory=False.\n",
      "  return pd.read_csv(\"../Data/data_sample_700_SOSEC_dataset_germany.csv\")\n"
     ]
    }
   ],
   "source": [
    "unique_states = load_data()['state'].unique()\n",
    "print(unique_states)"
   ],
   "metadata": {
    "collapsed": false,
    "ExecuteTime": {
     "end_time": "2024-10-16T07:22:30.457158Z",
     "start_time": "2024-10-16T07:22:29.650736Z"
    }
   },
   "id": "7107ce33a390c0da"
  },
  {
   "cell_type": "code",
   "execution_count": 4,
   "outputs": [
    {
     "name": "stdout",
     "output_type": "stream",
     "text": [
      "Index(['i_START', 'i_END', 'unique_id', 'F4aA1', 'F4aA2', 'F4bA1', 'F4bA2',\n",
      "       'F4bA3', 'F4bA4', 'F4bA5', 'F4bA6', 'F4bA7', 'F4bA8', 'F4bA9', 'F4bA10',\n",
      "       'F4bA11', 'F4bA12', 'F4bA13', 'F4bA14', 'F4i_neuA1', 'F4i_neuA2',\n",
      "       'F4i_neuA3', 'F4iA1', 'unique_ids', 'kitA6', 'Start_Datum',\n",
      "       'Ende_Datum', 'state', 'region', 'migration_background', 'town_name'],\n",
      "      dtype='object')\n"
     ]
    },
    {
     "name": "stderr",
     "output_type": "stream",
     "text": [
      "/Users/inagege/Documents/00_Uni/SeminarSocialSentimentInTimesOfCrisis/tools/preprocessing_data.py:10: DtypeWarning: Columns (55,56,57,58,59,60,61,62,63,64,65,66,67,68,69,70,73,74,75,148,161,166) have mixed types. Specify dtype option on import or set low_memory=False.\n",
      "  return pd.read_csv(\"../Data/data_sample_700_SOSEC_dataset_germany.csv\")\n"
     ]
    }
   ],
   "source": [
    "non_numeric_columns = load_data().select_dtypes(exclude=['number']).columns\n",
    "print(non_numeric_columns)"
   ],
   "metadata": {
    "collapsed": false,
    "ExecuteTime": {
     "end_time": "2024-10-16T07:22:32.779619Z",
     "start_time": "2024-10-16T07:22:32.040929Z"
    }
   },
   "id": "55b7f84ad8f0edcc"
  },
  {
   "cell_type": "code",
   "execution_count": 42,
   "outputs": [
    {
     "name": "stdout",
     "output_type": "stream",
     "text": [
      "['2022-11-08 20:12:40' '2022-11-08 21:19:05' '2022-11-08 17:50:23' ...\n",
      " '2024-07-18 10:46:49' '2024-07-18 11:02:40' '2024-07-18 13:08:07']\n"
     ]
    }
   ],
   "source": [
    "#iStart and iEnd are time stamps can be indized starting from lowest day = 0, next day 1...\n",
    "#unique_id, unique_ids is numeric when deleting the first 4 characters of the string and then converting to numeric\n",
    "#'F4aA1', 'F4aA2', 'F4bA1', 'F4bA2', 'F4bA3', 'F4bA4', 'F4bA5', 'F4bA6', 'F4bA7', 'F4bA8', 'F4bA9', 'F4bA10', 'F4bA11', 'F4bA12', 'F4bA13', 'F4bA14', 'F4i_neuA1', 'F4i_neuA2', 'F4i_neuA3', 'F4iA1' has to be handeled by changing strings with , to . and then converting to numeric\n",
    "#migration_background is boolean needs to be encoded into numeric\n",
    "#kitA6 and 'state' is string needs to be encoded into numeric"
   ],
   "metadata": {
    "collapsed": false,
    "ExecuteTime": {
     "end_time": "2024-10-14T08:44:53.691781Z",
     "start_time": "2024-10-14T08:44:53.608442Z"
    }
   },
   "id": "ab3825057bd5ad1a"
  },
  {
   "cell_type": "code",
   "execution_count": 5,
   "outputs": [
    {
     "name": "stderr",
     "output_type": "stream",
     "text": [
      "/Users/inagege/Documents/00_Uni/SeminarSocialSentimentInTimesOfCrisis/tools/preprocessing_data.py:10: DtypeWarning: Columns (55,56,57,58,59,60,61,62,63,64,65,66,67,68,69,70,73,74,75,148,161,166) have mixed types. Specify dtype option on import or set low_memory=False.\n",
      "  return pd.read_csv(\"../Data/data_sample_700_SOSEC_dataset_germany.csv\")\n"
     ]
    },
    {
     "data": {
      "text/plain": "   Unnamed: 0  i_NUMBER  i_START  i_END  i_TIME  unique_id  wave_first  \\\n0        1180      2260        3      3     744   101311.0         1.0   \n1        1352      2538        3      3    1632   101501.0         1.0   \n2         464      1129        3      3   13412   100512.0         1.0   \n3          21       275       -1     -1     987   100025.0         1.0   \n4         603      1344        3      3    1105   100666.0         1.0   \n\n   F1A1_1  F1A2_1  F1A3_1  ...  NEU3  NEU4  F3B_Huthi  state  region  \\\n0       4       5       4  ...   NaN   NaN        NaN      0       2   \n1       4       6       7  ...   NaN   NaN        NaN      1       2   \n2       2       6       3  ...   NaN   NaN        NaN     11       2   \n3       2       5       7  ...   NaN   NaN        NaN     14       2   \n4       2       5       4  ...   NaN   NaN        NaN      0       2   \n\n   migration_background  town_name  population_total  \\\n0                     0       2907             713.0   \n1                     1       4012            8746.0   \n2                     0       2741           21247.0   \n3                     0        806           16493.0   \n4                     0       3057           20856.0   \n\n   population_density_level  all_persons  \n0                150.474798            1  \n1                 87.520847            1  \n2                196.134512            1  \n3                289.859316            1  \n4                564.477111            1  \n\n[5 rows x 240 columns]",
      "text/html": "<div>\n<style scoped>\n    .dataframe tbody tr th:only-of-type {\n        vertical-align: middle;\n    }\n\n    .dataframe tbody tr th {\n        vertical-align: top;\n    }\n\n    .dataframe thead th {\n        text-align: right;\n    }\n</style>\n<table border=\"1\" class=\"dataframe\">\n  <thead>\n    <tr style=\"text-align: right;\">\n      <th></th>\n      <th>Unnamed: 0</th>\n      <th>i_NUMBER</th>\n      <th>i_START</th>\n      <th>i_END</th>\n      <th>i_TIME</th>\n      <th>unique_id</th>\n      <th>wave_first</th>\n      <th>F1A1_1</th>\n      <th>F1A2_1</th>\n      <th>F1A3_1</th>\n      <th>...</th>\n      <th>NEU3</th>\n      <th>NEU4</th>\n      <th>F3B_Huthi</th>\n      <th>state</th>\n      <th>region</th>\n      <th>migration_background</th>\n      <th>town_name</th>\n      <th>population_total</th>\n      <th>population_density_level</th>\n      <th>all_persons</th>\n    </tr>\n  </thead>\n  <tbody>\n    <tr>\n      <th>0</th>\n      <td>1180</td>\n      <td>2260</td>\n      <td>3</td>\n      <td>3</td>\n      <td>744</td>\n      <td>101311.0</td>\n      <td>1.0</td>\n      <td>4</td>\n      <td>5</td>\n      <td>4</td>\n      <td>...</td>\n      <td>NaN</td>\n      <td>NaN</td>\n      <td>NaN</td>\n      <td>0</td>\n      <td>2</td>\n      <td>0</td>\n      <td>2907</td>\n      <td>713.0</td>\n      <td>150.474798</td>\n      <td>1</td>\n    </tr>\n    <tr>\n      <th>1</th>\n      <td>1352</td>\n      <td>2538</td>\n      <td>3</td>\n      <td>3</td>\n      <td>1632</td>\n      <td>101501.0</td>\n      <td>1.0</td>\n      <td>4</td>\n      <td>6</td>\n      <td>7</td>\n      <td>...</td>\n      <td>NaN</td>\n      <td>NaN</td>\n      <td>NaN</td>\n      <td>1</td>\n      <td>2</td>\n      <td>1</td>\n      <td>4012</td>\n      <td>8746.0</td>\n      <td>87.520847</td>\n      <td>1</td>\n    </tr>\n    <tr>\n      <th>2</th>\n      <td>464</td>\n      <td>1129</td>\n      <td>3</td>\n      <td>3</td>\n      <td>13412</td>\n      <td>100512.0</td>\n      <td>1.0</td>\n      <td>2</td>\n      <td>6</td>\n      <td>3</td>\n      <td>...</td>\n      <td>NaN</td>\n      <td>NaN</td>\n      <td>NaN</td>\n      <td>11</td>\n      <td>2</td>\n      <td>0</td>\n      <td>2741</td>\n      <td>21247.0</td>\n      <td>196.134512</td>\n      <td>1</td>\n    </tr>\n    <tr>\n      <th>3</th>\n      <td>21</td>\n      <td>275</td>\n      <td>-1</td>\n      <td>-1</td>\n      <td>987</td>\n      <td>100025.0</td>\n      <td>1.0</td>\n      <td>2</td>\n      <td>5</td>\n      <td>7</td>\n      <td>...</td>\n      <td>NaN</td>\n      <td>NaN</td>\n      <td>NaN</td>\n      <td>14</td>\n      <td>2</td>\n      <td>0</td>\n      <td>806</td>\n      <td>16493.0</td>\n      <td>289.859316</td>\n      <td>1</td>\n    </tr>\n    <tr>\n      <th>4</th>\n      <td>603</td>\n      <td>1344</td>\n      <td>3</td>\n      <td>3</td>\n      <td>1105</td>\n      <td>100666.0</td>\n      <td>1.0</td>\n      <td>2</td>\n      <td>5</td>\n      <td>4</td>\n      <td>...</td>\n      <td>NaN</td>\n      <td>NaN</td>\n      <td>NaN</td>\n      <td>0</td>\n      <td>2</td>\n      <td>0</td>\n      <td>3057</td>\n      <td>20856.0</td>\n      <td>564.477111</td>\n      <td>1</td>\n    </tr>\n  </tbody>\n</table>\n<p>5 rows × 240 columns</p>\n</div>"
     },
     "execution_count": 5,
     "metadata": {},
     "output_type": "execute_result"
    }
   ],
   "source": [
    "encode_data_to_numeric().head()"
   ],
   "metadata": {
    "collapsed": false,
    "ExecuteTime": {
     "end_time": "2024-10-16T07:22:44.099743Z",
     "start_time": "2024-10-16T07:22:42.577095Z"
    }
   },
   "id": "3f06ccf48b3d0976"
  },
  {
   "cell_type": "code",
   "execution_count": null,
   "outputs": [],
   "source": [],
   "metadata": {
    "collapsed": false
   },
   "id": "1179058a5b095889"
  }
 ],
 "metadata": {
  "kernelspec": {
   "name": "venv",
   "language": "python",
   "display_name": "venv"
  },
  "language_info": {
   "codemirror_mode": {
    "name": "ipython",
    "version": 2
   },
   "file_extension": ".py",
   "mimetype": "text/x-python",
   "name": "python",
   "nbconvert_exporter": "python",
   "pygments_lexer": "ipython2",
   "version": "2.7.6"
  }
 },
 "nbformat": 4,
 "nbformat_minor": 5
}
